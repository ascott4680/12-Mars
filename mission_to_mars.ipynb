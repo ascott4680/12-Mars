{
 "cells": [
  {
   "cell_type": "code",
   "execution_count": 136,
   "metadata": {},
   "outputs": [],
   "source": [
    "############################\n",
    "## Andrew Scott            #\n",
    "## Web Scraping Homework   #\n",
    "## May 2019                #\n",
    "############################\n",
    "\n",
    "#Importing dependencies\n",
    "import pandas as pd\n",
    "from splinter import Browser\n",
    "from selenium import webdriver\n",
    "from bs4 import BeautifulSoup\n",
    "import time\n",
    "import requests\n",
    "import os"
   ]
  },
  {
   "cell_type": "code",
   "execution_count": 35,
   "metadata": {},
   "outputs": [],
   "source": [
    "# URL of page to be scraped\n",
    "url = 'https://mars.nasa.gov/news/'\n",
    "\n",
    "# Retrieve page with the requests module\n",
    "response = requests.get(url)\n",
    "# Create BeautifulSoup object; parse with 'lxml'\n",
    "soup = BeautifulSoup(response.text, 'lxml')\n"
   ]
  },
  {
   "cell_type": "code",
   "execution_count": 75,
   "metadata": {},
   "outputs": [
    {
     "name": "stdout",
     "output_type": "stream",
     "text": [
      "Why This Martian Full Moon Looks Like Candy\n",
      "\n",
      "\n",
      "For the first time, NASA's Mars Odyssey orbiter has caught the Martian moon Phobos during a full moon phase. Each color in this new image represents a temperature range detected by Odyssey's infrared camera.\n",
      "\n"
     ]
    }
   ],
   "source": [
    "#find article title--------------------------------------------------\n",
    "results = soup.find_all('div', class_='content_title')[0]\n",
    "\n",
    "news_title = results.text.lstrip()\n",
    "\n",
    "#find body text of first article---------------------------------------\n",
    "results = soup.find_all('div', class_='rollover_description_inner')[0]\n",
    "\n",
    "news_p = results.text.lstrip()\n",
    "\n",
    "\n",
    "print(headline)\n",
    "print(news_p)"
   ]
  },
  {
   "cell_type": "code",
   "execution_count": 89,
   "metadata": {
    "scrolled": true
   },
   "outputs": [
    {
     "name": "stdout",
     "output_type": "stream",
     "text": [
      "https://www.jpl.nasa.gov/spaceimages/images/mediumsize/PIA18452_ip.jpg\n"
     ]
    }
   ],
   "source": [
    "## JPL Mars Space Image-- Featured Image with Splinter\n",
    "\n",
    "executable_path = {\"executable_path\": \"/usr/local/bin/chromedriver\"}\n",
    "browser = Browser('chrome', **executable_path, headless=False)\n",
    "\n",
    "url = 'https://www.jpl.nasa.gov/spaceimages/?search=&category=Mars'\n",
    "browser.visit(url)\n",
    "\n",
    "html = browser.html\n",
    "soup = BeautifulSoup(html, \"html.parser\")\n",
    "\n",
    "image = soup.find('div', class_='default floating_text_area ms-layer')\n",
    "featured_image=image.find('footer')\n",
    "fi_url=featured_image.find('a')['data-fancybox-href']\n",
    "featured_image_url= 'https://www.jpl.nasa.gov'+ fi_url\n",
    "\n",
    "browser.quit()\n",
    "\n",
    "print(featured_image_url)\n"
   ]
  },
  {
   "cell_type": "code",
   "execution_count": 146,
   "metadata": {},
   "outputs": [
    {
     "name": "stdout",
     "output_type": "stream",
     "text": [
      "\n",
      "InSight sol 162 (2019-05-12) low -100.2ºC (-148.3ºF) high -20.3ºC (-4.5ºF)\n",
      "winds from the SW at 4.5 m/s (10.1 mph) gusting to 14.3 m/s (32.0 mph)\n",
      "pressure at 7.50 hPapic.twitter.com/23uEPf5baF\n",
      "\n"
     ]
    }
   ],
   "source": [
    "#Twitter scraping\n",
    "\n",
    "# URL of page to be scraped\n",
    "twitter = 'https://twitter.com/marswxreport?lang=en'\n",
    "\n",
    "# Retrieve page with the requests module\n",
    "t_response = requests.get(twitter)\n",
    "\n",
    "# Create BeautifulSoup object; parse with 'lxml'\n",
    "mars_soup = BeautifulSoup(t_response.text, 'lxml')\n",
    "\n",
    "\n",
    "#find article title--------------------------------------------------\n",
    "mars_tweet = mars_soup.find_all('div', class_='js-tweet-text-container')[0].text\n",
    "# weather = mars_tweet.find('p')\n",
    "# sol = weather.text.lstrip()\n",
    "\n",
    "print(mars_tweet)"
   ]
  },
  {
   "cell_type": "code",
   "execution_count": null,
   "metadata": {},
   "outputs": [],
   "source": []
  },
  {
   "cell_type": "code",
   "execution_count": null,
   "metadata": {},
   "outputs": [],
   "source": []
  },
  {
   "cell_type": "code",
   "execution_count": null,
   "metadata": {},
   "outputs": [],
   "source": []
  }
 ],
 "metadata": {
  "kernelspec": {
   "display_name": "Python 3",
   "language": "python",
   "name": "python3"
  },
  "language_info": {
   "codemirror_mode": {
    "name": "ipython",
    "version": 3
   },
   "file_extension": ".py",
   "mimetype": "text/x-python",
   "name": "python",
   "nbconvert_exporter": "python",
   "pygments_lexer": "ipython3",
   "version": "3.7.1"
  }
 },
 "nbformat": 4,
 "nbformat_minor": 2
}
